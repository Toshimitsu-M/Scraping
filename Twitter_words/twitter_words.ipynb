{
 "cells": [
  {
   "cell_type": "code",
   "execution_count": 3,
   "metadata": {},
   "outputs": [],
   "source": [
    "import csv\n",
    "from urllib.request import urlopen\n",
    "from bs4 import BeautifulSoup\n",
    "import ssl\n",
    "ssl._create_default_https_context = ssl._create_unverified_context\n",
    "\n",
    "# URLの指定\n",
    "html = urlopen(\"https://primenumbers.co.jp/blog/twitterads/twitter_interesting/\")\n",
    "bsObj = BeautifulSoup(html, \"html.parser\")\n",
    "\n",
    "# テーブルを指定\n",
    "# figure class=\"wp-block-table\">\n",
    "numbers = 25\n",
    "\n",
    "table = bsObj.findAll(\"figure\", {\"class\":\"wp-block-table\"})[0]\n",
    "rows = table.findAll(\"tr\")\n",
    "\n",
    "table = bsObj.findAll(\"figure\", {\"class\":\"wp-block-table\"})[1]\n",
    "rows = table.findAll(\"tr\")\n",
    "\n",
    "table = bsObj.findAll(\"figure\", {\"class\":\"wp-block-table\"})[2]\n",
    "rows = table.findAll(\"tr\")\n",
    "\n",
    "\n",
    "with open(\"twitter_words.csv\", \"w\", encoding='utf-8') as file:\n",
    "    writer = csv.writer(file)\n",
    "    for row in rows:\n",
    "        csvRow = []\n",
    "        for cell in row.findAll(['td', 'th']):\n",
    "            csvRow.append(cell.get_text())\n",
    "        writer.writerow(csvRow)\n",
    "\n"
   ]
  },
  {
   "cell_type": "code",
   "execution_count": null,
   "metadata": {},
   "outputs": [],
   "source": []
  }
 ],
 "metadata": {
  "kernelspec": {
   "display_name": "Python 3",
   "language": "python",
   "name": "python3"
  },
  "language_info": {
   "codemirror_mode": {
    "name": "ipython",
    "version": 3
   },
   "file_extension": ".py",
   "mimetype": "text/x-python",
   "name": "python",
   "nbconvert_exporter": "python",
   "pygments_lexer": "ipython3",
   "version": "3.8.5"
  }
 },
 "nbformat": 4,
 "nbformat_minor": 4
}
