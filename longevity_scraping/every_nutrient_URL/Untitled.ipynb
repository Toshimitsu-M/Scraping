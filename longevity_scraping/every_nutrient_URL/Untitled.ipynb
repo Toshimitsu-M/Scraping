{
 "cells": [
  {
   "cell_type": "code",
   "execution_count": 3,
   "metadata": {},
   "outputs": [],
   "source": [
    "from selenium import webdriver\n",
    "import time\n",
    "import pandas as p \n",
    "from selenium.webdriver.chrome.options import Options\n",
    "from bs4 import BeautifulSoup\n",
    "# bs4はHTML、doc専門！！"
   ]
  },
  {
   "cell_type": "code",
   "execution_count": 38,
   "metadata": {},
   "outputs": [
    {
     "name": "stdout",
     "output_type": "stream",
     "text": [
      "tanpaku-amino.html\n",
      "shishitsu-shibousan.html\n",
      "cholesterol.html\n",
      "tansuikabutsu.html\n",
      "shokumotsu-seni.html\n",
      "vitamin-a.html\n",
      "vitamin-d.html\n",
      "vitamin-e.html\n",
      "vitamin-k.html\n",
      "vitamin-b1.html\n",
      "vitamin-b2.html\n",
      "vitamin-niacin.html\n",
      "vitamin-b6.html\n",
      "vitamin-yousan-biotin.html\n",
      "vitamin-pantten.html\n",
      "biotin.html\n",
      "vitamin-c.html\n",
      "mineral-na.html\n",
      "mineral-k.html\n",
      "mineral-ca.html\n",
      "mineral-mg.html\n",
      "mineral-p.html\n",
      "mineral-tetsu.html\n",
      "mineral-zn-cu.html\n",
      "mineral-dou.html\n",
      "mineral-biryou.html\n",
      "phytochemical.html\n",
      "koso-kenko.html\n",
      "supplement.html\n"
     ]
    }
   ],
   "source": [
    "options = Options()\n",
    "options.add_argument('--headless')\n",
    "browser = webdriver.Chrome(options=options)\n",
    "url = 'https://www.tyojyu.or.jp/net/kenkou-tyoju/eiyouso/'\n",
    "browser.get(url)\n",
    "time.sleep(3)\n",
    "\n",
    "# ページのHTMLを取得\n",
    "html = browser.page_source\n",
    "\n",
    "soup = BeautifulSoup(html, 'html.parser')\n",
    "url_items = soup.select('.mod-links2__list a')\n",
    "for a in url_items:\n",
    "    print(a['href'])\n",
    "browser.quit()"
   ]
  },
  {
   "cell_type": "code",
   "execution_count": null,
   "metadata": {},
   "outputs": [],
   "source": []
  }
 ],
 "metadata": {
  "kernelspec": {
   "display_name": "Python 3",
   "language": "python",
   "name": "python3"
  },
  "language_info": {
   "codemirror_mode": {
    "name": "ipython",
    "version": 3
   },
   "file_extension": ".py",
   "mimetype": "text/x-python",
   "name": "python",
   "nbconvert_exporter": "python",
   "pygments_lexer": "ipython3",
   "version": "3.8.5"
  }
 },
 "nbformat": 4,
 "nbformat_minor": 4
}
