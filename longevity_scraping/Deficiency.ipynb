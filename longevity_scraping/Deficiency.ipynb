{
 "cells": [
  {
   "cell_type": "code",
   "execution_count": 89,
   "metadata": {},
   "outputs": [
    {
     "ename": "SyntaxError",
     "evalue": "invalid character in identifier (<ipython-input-89-b92abdffd51a>, line 42)",
     "output_type": "error",
     "traceback": [
      "\u001b[0;36m  File \u001b[0;32m\"<ipython-input-89-b92abdffd51a>\"\u001b[0;36m, line \u001b[0;32m42\u001b[0m\n\u001b[0;31m    print(\"不足\"　in i)\u001b[0m\n\u001b[0m              　 ^\u001b[0m\n\u001b[0;31mSyntaxError\u001b[0m\u001b[0;31m:\u001b[0m invalid character in identifier\n"
     ]
    }
   ],
   "source": [
    "import requests\n",
    "from bs4 import BeautifulSoup\n",
    "import time\n",
    "import pandas as pd\n",
    "import re\n",
    "\n",
    "every_nutrient_url = 'tanpaku-amino.html'\n",
    "url = 'https://www.tyojyu.or.jp/net/kenkou-tyoju/eiyouso/' + every_nutrient_url\n",
    "response = requests.get(url)\n",
    "#取得したHTMLからBeautifulSoupオブジェクト作成\n",
    "soup = BeautifulSoup(response.content, \"html.parser\").article\n",
    "# sの子要素にh2不足がある。それと次のh２の間のpのテキストを得たい。\n",
    "\n",
    "# s = soup.select(\"h2 > p\")\n",
    "# s\n",
    "# （h2, Text>=\"不足\"）以降のp全てを得たい。\n",
    "# Next\n",
    "d= soup.find_all(\"h2\")\n",
    "\n",
    "# d = deficiency.index(\"が不足するとどうなる\")\n",
    "# d\n",
    "# table = soup.find_all(string=re.compile('不足'))\n",
    "# table\n",
    "# type(table) bs4.element.ResultSet この場合、for文を用いる。\n",
    "# print(deficiency.find(string = \"不足\"))\n",
    "# p = soup.find_next_siblings(\"h2\")\n",
    "# type(deficiency)  bs4.element.NavigableString\n",
    "# .string\n",
    "\n",
    "# soup = BeautifulSoup(html, 'html.parser')\n",
    "# type(soup)  bs4.BeautifulSoup\n",
    "# for i in soup.find_all(string=re.compile('不足')):\n",
    "    \n",
    "#     print(i)\n",
    "\n",
    "#     result = re.match('.*?>', str(i.parent))\n",
    "#     if result:\n",
    "#         print(result.group())\n",
    "# type(result.group()) str\n",
    "# type(soup.get_text())  str\n",
    "# Trueとかやればいいの？\n",
    "for i in d:\n",
    "    print(\"不足\"　in i)"
   ]
  },
  {
   "cell_type": "code",
   "execution_count": 62,
   "metadata": {
    "scrolled": true
   },
   "outputs": [
    {
     "ename": "NameError",
     "evalue": "name 'h2とh2の間' is not defined",
     "output_type": "error",
     "traceback": [
      "\u001b[0;31m---------------------------------------------------------------------------\u001b[0m",
      "\u001b[0;31mNameError\u001b[0m                                 Traceback (most recent call last)",
      "\u001b[0;32m<ipython-input-62-00cb76a9d6a1>\u001b[0m in \u001b[0;36m<module>\u001b[0;34m\u001b[0m\n\u001b[0;32m----> 1\u001b[0;31m \u001b[0mh2とh2の間\u001b[0m\u001b[0;34m\u001b[0m\u001b[0;34m\u001b[0m\u001b[0m\n\u001b[0m\u001b[1;32m      2\u001b[0m story = bsObj.find(\n\u001b[1;32m      3\u001b[0m     \u001b[0;34m\"span\"\u001b[0m\u001b[0;34m,\u001b[0m\u001b[0;34m\u001b[0m\u001b[0;34m\u001b[0m\u001b[0m\n\u001b[1;32m      4\u001b[0m     \u001b[0mclass_\u001b[0m\u001b[0;34m=\u001b[0m\u001b[0;34m\"mw-headline\"\u001b[0m\u001b[0;34m,\u001b[0m\u001b[0;34m\u001b[0m\u001b[0;34m\u001b[0m\u001b[0m\n\u001b[1;32m      5\u001b[0m     id=\".E3.82.B9.E3.83.88.E3.83.BC.E3.83.AA.E3.83.BC\")\n",
      "\u001b[0;31mNameError\u001b[0m: name 'h2とh2の間' is not defined"
     ]
    }
   ],
   "source": [
    "# h2とh2の間\n",
    "story = soup.find(\n",
    "    \"h2\",\n",
    "    class_=\"mw-headline\",\n",
    "    id=\".E3.82.B9.E3.83.88.E3.83.BC.E3.83.AA.E3.83.BC\")\n",
    "cast = soup.find(\n",
    "    \"h2\",\n",
    "    class_=\"mw-headline\",\n",
    "    id=\".E3.82.AD.E3.83.A3.E3.82.B9.E3.83.88\")\n",
    "\n",
    "start, end = soup.find_all().index(story), soup.find_all().index(cast)\n",
    "data = soup.find_all()[start + 1:end]\n",
    "data = '\\n'.join(map(str, data))\n",
    "print(data)"
   ]
  },
  {
   "cell_type": "code",
   "execution_count": 90,
   "metadata": {
    "scrolled": true
   },
   "outputs": [
    {
     "data": {
      "text/plain": [
       "['公開日：2016年7月25日 21時59分\\n 更新日：2021年3月18日 14時46分',\n",
       " '\\u3000たんぱく質とはアミノ酸が多数結合した高分子化合物で、筋肉や臓器など体を構成する要素として非常に重要なものです。また、それだけでなく、たんぱく質は、アミノ酸の組み合わせや種類、量などの違いによって形状や働きが異なり、酵素やホルモン、免疫物質としてさまざまな機能を担っています。',\n",
       " '\\u3000たんぱく質は20種類のアミノ酸から構成されています。アミノ酸のうち、バリン、ロイシン、イソロイシン、スレオニン、メチオニン、リジン、フェニルアラニン、トリプトファン、ヒスチジンの9種類は、体内で必要量を合成できないため、食事から摂取する必要があります。これらのアミノ酸を必須アミノ酸といいます。体内で合成できる、非必須アミノ酸はグリシン、アラニン、グルタミン酸、グルタミン、セリン、アスパラギン酸、アスパラギン、チロシン、システイン、アルギニン、プロリンの11種類です。',\n",
       " '\\u3000バリン、ロイシン、イソロイシン、スレオニン、メチオニン、リジン、フェニルアラニン、トリプトファン、ヒスチジン',\n",
       " '\\u3000グリシン、アラニン、グルタミン酸、グルタミン、セリン、アスパラギン酸、アスパラギン、チロシン、システイン、アルギニン、プロリン',\n",
       " '\\u3000たんぱく質はアミノ酸に分解されて、吸収された後、体に必要なたんぱく質に再合成されます。ヒトの体の中には数万種類ものたんぱく質があり、それぞれが、異なる役割を持っています。酵素やホルモンとして代謝や体の機能を調節するもの、ヘモグロビンやトランスフェリンなど物質の輸送に関与するもの、γ－グロブリンなど免疫に関与するもの、アクチンやミオシンなど体を構成するものなど、どれも、生きていくためには欠かすことのできないものです。',\n",
       " '\\u3000また、アミノ酸も、たんぱく質を構成するだけでなく、神経伝達物質やビタミンなどの生理活性物質の前駆体としても重要です。',\n",
       " '\\u3000日本人の食事摂取基準によると、一日に必要なたんぱく質は摂取エネルギーの13～20％が理想とされており、推奨量は、成人男性は一日60g、成人女性は一日50gとなっています（表1）。',\n",
       " '\\u3000フレイル予防のために積極的に摂取したい栄養素は主にたんぱく質、ビタミンD、カルシウムです。本稿では、たんぱく質について解説します。',\n",
       " '\\u3000たんぱく質は、骨格筋量や筋力など、身体機能に大きく影響し、摂取量とフレイルのリスク低下との関連が見られることが分かっています。',\n",
       " '\\u3000たんぱく質の摂取に関して、摂取量の他にもう一つ重要なのは、摂取するたんぱく質の質です。よく、「高齢者は、良質のたんぱく質を摂取しましょう」と言われますが、良質のたんぱく質とはどのようなものでしょうか。',\n",
       " '\\u3000体の中で必要なたんぱく質を合成する際には、それぞれ構成するアミノ酸が決まっていますので、それに必要なアミノ酸がそろっていなければ、十分なたんぱく質を合成することができません。特に、必須アミノ酸は、体内では合成できないため、必要な分を食品から摂取しなければなりません。その必須アミノ酸がバランスよく含まれている食品が、良質のたんぱく質を含む食品というわけです。',\n",
       " '\\u3000良質のたんぱく質の指標になるものが、体たんぱく合成に理想的なアミノ酸組成を示した、アミノ酸評点パターンです（表2）。たんぱく質の栄養価は、各必須アミノ酸について、評点パターンの数値を100としたときの割合で求められます。その食品の中で最も低いアミノ酸（第一制限アミノ酸）の値が、アミノ酸スコアとよばれ、その食品のたんぱく質の栄養価となります。',\n",
       " 'His：ヒスチジン,\\u3000Ile：イソロイシン,\\u3000Leu：ロイシン,\\u3000Lys：リシン,\\u3000SAA：含硫アミノ酸,\\u3000AAA：芳香族アミノ酸,\\u3000Thr：トレオニン,\\u3000Trp：トリプトファン,\\u3000Val：バリン',\n",
       " '\\u3000アミノ酸スコアは一般に肉、魚、卵、大豆、乳類で良好です。穀類の精白米や小麦は、リジン少なく、アミノ酸スコアが低くなります。しかし、穀類はリジンが豊富な動物性食品や豆類と一緒にとることで、必須アミノ酸のバランスがよくなります。',\n",
       " '\\u3000たんぱく質は、体を作る構成要素であるだけでなく、酵素やホルモンなど体の機能を調節する大切な役割を果たしているため、不足すると、免疫機能が低下して抵抗力が弱くなり、さまざまな病気にかかりやすくなります。また、たんぱく質が不足すると筋力も低下します。特に、高齢者は、肉や魚の摂取量が少なくなり、たんぱく質が不足しがちなので、意識して、摂るように心がけましょう。歯が悪い人や飲み込む力の弱い人は、ひき肉を使う、材料を軟らかく煮る、飲み込みやすくとろみをつけるなどの工夫をするとよいでしょう。',\n",
       " '\\u3000たんぱく質は、肉類・魚介類・卵類・乳類など動物性の食品のほか、豆類・穀類など植物性食品に多く含まれています。一般的に、動物性食品に含まれるたんぱく質の方が、アミノ酸スコアの高い良質のたんぱく質が多いですが、特定の食品に偏らないように、それぞれのたんぱく質をバランスよく食べるようにしましょう。',\n",
       " '\\u3000一般的な食品スーパーなど身近なところで購入できる食品で、調理しやすく、日常的に摂取しやすい食品からたんぱく質を多く含む食品を表3から表8にまとめました。',\n",
       " '\\u3000たんぱく質を1日に何からどのくらい食べたらよいか摂取量の目安は、厚生労働省と農林水産省が作成した「食事バランスガイド」が参考になります。食事バランスガイドの活用法、1日の摂取量の目安について詳しくはリンク1、2をご覧ください。',\n",
       " 'リンク1\\u3000食事バランスガイドの活用法',\n",
       " 'リンク2\\u3000主菜(肉・魚・卵・大豆料理)の摂取量の目安']"
      ]
     },
     "execution_count": 90,
     "metadata": {},
     "output_type": "execute_result"
    }
   ],
   "source": [
    "# pのテキストの導出\n",
    "texts_p = [c.get_text() for c in soup.find_all('p')]\n",
    "# 空白行削除 + 改行コード削除\n",
    "# texts_p = [t.replace('\\n','') for t in texts_p if re.match('\\S', t)]\n",
    "texts_p"
   ]
  },
  {
   "cell_type": "code",
   "execution_count": null,
   "metadata": {},
   "outputs": [],
   "source": [
    "# よくがんばりました。調べていくと、わからないメソッドがいくつか出てきて、ここまでして「欠乏症」をスクレイピングする必要があるのか疑問になってきました。\n",
    "# 欠乏症が不要の場合は、栄養素リストから考えるということでしょうかね。実際それでグラフは作成できるんだし。とりあえずここまで。先進みたい。\n",
    "# 一応備忘録は以下の通り。\n",
    "# https://github.com/hibikisan2018/learn_python/blob/master/scrayping_regex/extract_titles_regex.py\n",
    "# https://hibiki-press.tech/python/find_and_in/439\n",
    "# https://hibiki-press.tech/python/webscraping_with_regex/1886\n",
    "# 以上。"
   ]
  }
 ],
 "metadata": {
  "kernelspec": {
   "display_name": "Python 3",
   "language": "python",
   "name": "python3"
  },
  "language_info": {
   "codemirror_mode": {
    "name": "ipython",
    "version": 3
   },
   "file_extension": ".py",
   "mimetype": "text/x-python",
   "name": "python",
   "nbconvert_exporter": "python",
   "pygments_lexer": "ipython3",
   "version": "3.8.5"
  }
 },
 "nbformat": 4,
 "nbformat_minor": 4
}
