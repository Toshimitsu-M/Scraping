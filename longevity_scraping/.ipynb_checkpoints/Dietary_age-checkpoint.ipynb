{
 "cells": [
  {
   "cell_type": "code",
   "execution_count": 10,
   "metadata": {},
   "outputs": [
    {
     "data": {
      "text/plain": [
       "[<th scope=\"row\">0～5（月）</th>,\n",
       " <th scope=\"row\">6～8（月）</th>,\n",
       " <th scope=\"row\">9～11（月）</th>,\n",
       " <th scope=\"row\">1～2（歳）</th>,\n",
       " <th scope=\"row\">3～5（歳）</th>,\n",
       " <th scope=\"row\">6～7（歳）</th>,\n",
       " <th scope=\"row\">8～9（歳）</th>,\n",
       " <th scope=\"row\">10～11（歳）</th>,\n",
       " <th scope=\"row\">12～14（歳）</th>,\n",
       " <th scope=\"row\">15～17（歳）</th>,\n",
       " <th scope=\"row\">18～29（歳）</th>,\n",
       " <th scope=\"row\">30～49（歳）</th>,\n",
       " <th scope=\"row\">50～64（歳）</th>,\n",
       " <th scope=\"row\">65～74（歳）<sup>b</sup></th>,\n",
       " <th scope=\"row\">75以上（歳）<sup>b</sup></th>,\n",
       " <th scope=\"row\">妊婦（付加量）初期</th>,\n",
       " <th scope=\"row\">妊婦（付加量）中期</th>,\n",
       " <th scope=\"row\">妊婦（付加量）後期</th>,\n",
       " <th scope=\"row\">授乳婦（付加量）</th>]"
      ]
     },
     "execution_count": 10,
     "metadata": {},
     "output_type": "execute_result"
    }
   ],
   "source": [
    "import requests\n",
    "from bs4 import BeautifulSoup\n",
    "import time\n",
    "import pandas as pd\n",
    "every_nutrient_url = 'tanpaku-amino.html'\n",
    "url = 'https://www.tyojyu.or.jp/net/kenkou-tyoju/eiyouso/' + every_nutrient_url\n",
    "response = requests.get(url)\n",
    "soup = BeautifulSoup(response.content, \"html.parser\")\n",
    "table = soup.find(\"table\", {\"class\":\"table01 mod-scroll__table\"})\n",
    "ths = table.find_all(\"th\")\n",
    "ths = ths[12:]\n",
    "ths"
   ]
  },
  {
   "cell_type": "code",
   "execution_count": 15,
   "metadata": {},
   "outputs": [
    {
     "data": {
      "text/plain": [
       "['0～5（月）',\n",
       " '6～8（月）',\n",
       " '9～11（月）',\n",
       " '1～2（歳）',\n",
       " '3～5（歳）',\n",
       " '6～7（歳）',\n",
       " '8～9（歳）',\n",
       " '10～11（歳）',\n",
       " '12～14（歳）',\n",
       " '15～17（歳）',\n",
       " '18～29（歳）',\n",
       " '30～49（歳）',\n",
       " '50～64（歳）',\n",
       " '65～74（歳）',\n",
       " '75以上（歳）',\n",
       " '妊婦（付加量）初期',\n",
       " '妊婦（付加量）中期',\n",
       " '妊婦（付加量）後期',\n",
       " '授乳婦（付加量）']"
      ]
     },
     "execution_count": 15,
     "metadata": {},
     "output_type": "execute_result"
    }
   ],
   "source": [
    "# リストだからfor文で処理する。\n",
    "# >から<までを抽出したい。\n",
    "# 文字列の編集、置き換え？、削除。\n",
    "# 年齢リスト\n",
    "t = []\n",
    "for i in ths:\n",
    "    k = str(i)\n",
    "    target = '>'\n",
    "    targets = '<'\n",
    "    idx = k.find(target)\n",
    "    r = k[idx:]\n",
    "    idxs = r.find(targets)\n",
    "    f = r[:idxs].replace('>', '')\n",
    "    t.append(f)\n",
    "t"
   ]
  },
  {
   "cell_type": "code",
   "execution_count": 30,
   "metadata": {},
   "outputs": [
    {
     "data": {
      "text/plain": [
       "[['0～5（月）', '女性'],\n",
       " ['6～8（月）', '女性'],\n",
       " ['9～11（月）', '女性'],\n",
       " ['1～2（歳）', '女性'],\n",
       " ['3～5（歳）', '女性'],\n",
       " ['6～7（歳）', '女性'],\n",
       " ['8～9（歳）', '女性'],\n",
       " ['10～11（歳）', '女性'],\n",
       " ['12～14（歳）', '女性'],\n",
       " ['15～17（歳）', '女性'],\n",
       " ['18～29（歳）', '女性'],\n",
       " ['30～49（歳）', '女性'],\n",
       " ['50～64（歳）', '女性'],\n",
       " ['65～74（歳）', '女性'],\n",
       " ['75以上（歳）', '女性'],\n",
       " ['妊婦（付加量）初期', '女性'],\n",
       " ['妊婦（付加量）中期', '女性'],\n",
       " ['妊婦（付加量）後期', '女性'],\n",
       " ['授乳婦（付加量）', '女性']]"
      ]
     },
     "execution_count": 30,
     "metadata": {},
     "output_type": "execute_result"
    }
   ],
   "source": [
    "s = ['男性', '女性']\n",
    "\n",
    "y = []\n",
    "for i in t:\n",
    "    for j in s:\n",
    "        x = []\n",
    "        x.append(i)\n",
    "        x.append(j)\n",
    "    y.append(x)\n",
    "y"
   ]
  },
  {
   "cell_type": "code",
   "execution_count": null,
   "metadata": {},
   "outputs": [],
   "source": []
  }
 ],
 "metadata": {
  "kernelspec": {
   "display_name": "Python 3",
   "language": "python",
   "name": "python3"
  },
  "language_info": {
   "codemirror_mode": {
    "name": "ipython",
    "version": 3
   },
   "file_extension": ".py",
   "mimetype": "text/x-python",
   "name": "python",
   "nbconvert_exporter": "python",
   "pygments_lexer": "ipython3",
   "version": "3.8.5"
  }
 },
 "nbformat": 4,
 "nbformat_minor": 4
}
