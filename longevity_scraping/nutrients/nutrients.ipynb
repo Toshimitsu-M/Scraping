{
 "cells": [
  {
   "cell_type": "code",
   "execution_count": 5,
   "metadata": {},
   "outputs": [
    {
     "name": "stdout",
     "output_type": "stream",
     "text": [
      "Requirement already satisfied: selenium in ./opt/anaconda3/lib/python3.8/site-packages (3.141.0)\n",
      "Requirement already satisfied: urllib3 in ./opt/anaconda3/lib/python3.8/site-packages (from selenium) (1.25.11)\n",
      "Requirement already satisfied: beautifulsoup4 in ./opt/anaconda3/lib/python3.8/site-packages (4.9.3)\n",
      "Requirement already satisfied: soupsieve>1.2; python_version >= \"3.0\" in ./opt/anaconda3/lib/python3.8/site-packages (from beautifulsoup4) (2.0.1)\n"
     ]
    }
   ],
   "source": [
    "!pip install selenium\n",
    "!pip install beautifulsoup4"
   ]
  },
  {
   "cell_type": "code",
   "execution_count": 6,
   "metadata": {},
   "outputs": [],
   "source": [
    "from selenium import webdriver\n",
    "import time\n",
    "import pandas as p "
   ]
  },
  {
   "cell_type": "code",
   "execution_count": 11,
   "metadata": {
    "scrolled": true
   },
   "outputs": [
    {
     "name": "stdout",
     "output_type": "stream",
     "text": [
      "Updating Homebrew...\n",
      "\u001b[34m==>\u001b[0m \u001b[1mAuto-updated Homebrew!\u001b[0m\n",
      "Updated 5 taps (heroku/brew, homebrew/cask-versions, homebrew/core, homebrew/cask and homebrew/services).\n",
      "\u001b[34m==>\u001b[0m \u001b[1mNew Formulae\u001b[0m\n",
      "alda                       iredis                     pydocstyle\n",
      "alerter                    libfuse@2                  pyright\n",
      "bash_unit                  licensefinder              python-launcher\n",
      "bupstash                   linux-headers@4.15         rhit\n",
      "conmon                     macos-term-size            rover\n",
      "crun                       mariadb@10.5               rsc_2fa\n",
      "darglint                   mbedtls@2                  samba\n",
      "doc8                       nbsdgames                  scorecard\n",
      "docuum                     notcurses                  scry\n",
      "fanyi                      ns-3                       slirp4netns\n",
      "fluid-synth@2.1            openfpgaloader             sql-lint\n",
      "func-e                     openliberty-jakartaee8     stylua\n",
      "fuse-overlayfs             openliberty-microprofile4  tracker\n",
      "hcl2json                   openliberty-webprofile8    umple\n",
      "hubble                     poppler-qt5                vala-language-server\n",
      "i2c-tools                  psalm                      wildmidi\n",
      "influxdb-cli               py-spy                     zet\n",
      "\u001b[34m==>\u001b[0m \u001b[1mUpdated Formulae\u001b[0m\n",
      "Updated 3156 formulae.\n",
      "\u001b[34m==>\u001b[0m \u001b[1mRenamed Formulae\u001b[0m\n",
      "envoy@1.17 -> envoy@1.18                 wxmac -> wxwidgets\n",
      "linux-headers -> linux-headers@4.4       wxmac@3.0 -> wxwidgets@3.0\n",
      "parallelstl -> onedpl\n",
      "\u001b[34m==>\u001b[0m \u001b[1mDeleted Formulae\u001b[0m\n",
      "giter8                                   tj\n",
      "terraform-provisioner-ansible\n",
      "\u001b[34m==>\u001b[0m \u001b[1mNew Casks\u001b[0m\n",
      "8x8-work                   jiohome                    sonic-robo-blast-2-kart\n",
      "blackhole-64ch             kdocs                      touch-portal\n",
      "clock-signal               maccleaner-pro             transfer\n",
      "diagnostics                memory-cleaner             trezor-suite\n",
      "disk-expert                millie                     ubports-installer\n",
      "dropzone                   moebius                    vsd-viewer\n",
      "duplicate-file-finder      odbc-manager               vsdx-annotator\n",
      "fluent-reader              pktriot                    wezterm\n",
      "gosign                     redis-pro                  wifi-explorer-pro\n",
      "guilded                    safe-exam-browser          youtube-dl-gui\n",
      "hush                       shottr\n",
      "itraffic                   sonic-robo-blast-2\n",
      "\u001b[34m==>\u001b[0m \u001b[1mUpdated Casks\u001b[0m\n",
      "Updated 895 casks.\n",
      "\u001b[34m==>\u001b[0m \u001b[1mDeleted Casks\u001b[0m\n",
      "adafruit-arduino                         caramba-switcher\n",
      "adobe-lens-profile-creator               darktable-dev\n",
      "beautune                                 kap-beta\n",
      "blue-jeans-browser-plugin                pdftotext\n",
      "\n",
      "\u001b[33mWarning:\u001b[0m Cask 'chromedriver' is already installed.\n",
      "\n",
      "To re-install chromedriver, run:\n",
      "  \u001b[32mbrew reinstall chromedriver\u001b[39m\n"
     ]
    }
   ],
   "source": [
    "!brew install chromedriver"
   ]
  },
  {
   "cell_type": "code",
   "execution_count": 7,
   "metadata": {
    "scrolled": false
   },
   "outputs": [
    {
     "name": "stdout",
     "output_type": "stream",
     "text": [
      "\u001b[34m==>\u001b[0m \u001b[1mDownloading https://chromedriver.storage.googleapis.com/92.0.4515.107/chrome\u001b[0m\n",
      "Already downloaded: /Users/minamitoshimitsu/Library/Caches/Homebrew/downloads/1742c6387c52e4654fcfb2672737ee636f086dd3802511145a4a13abae689cd5--chromedriver_mac64.zip\n",
      "\u001b[32m==>\u001b[0m \u001b[1mUninstalling Cask \u001b[32mchromedriver\u001b[39m\u001b[0m\n",
      "\u001b[34m==>\u001b[0m \u001b[1mUnlinking Binary '/usr/local/bin/chromedriver'\u001b[0m\n",
      "\u001b[34m==>\u001b[0m \u001b[1mPurging files for version 92.0.4515.107 of Cask chromedriver\u001b[0m\n",
      "\u001b[32m==>\u001b[0m \u001b[1mInstalling Cask \u001b[32mchromedriver\u001b[39m\u001b[0m\n",
      "\u001b[34m==>\u001b[0m \u001b[1mLinking Binary 'chromedriver' to '/usr/local/bin/chromedriver'\u001b[0m\n",
      "🍺  chromedriver was successfully installed!\n"
     ]
    }
   ],
   "source": [
    "!brew reinstall chromedriver"
   ]
  },
  {
   "cell_type": "code",
   "execution_count": 27,
   "metadata": {},
   "outputs": [],
   "source": [
    "browser = webdriver.Chrome()"
   ]
  },
  {
   "cell_type": "code",
   "execution_count": 20,
   "metadata": {},
   "outputs": [],
   "source": [
    "#ブラウザを閉じる\n",
    "#browser.quit()"
   ]
  },
  {
   "cell_type": "code",
   "execution_count": 59,
   "metadata": {},
   "outputs": [],
   "source": [
    "browser.get(\"https://www.tyojyu.or.jp/net/kenkou-tyoju/eiyouso/\")"
   ]
  },
  {
   "cell_type": "code",
   "execution_count": 60,
   "metadata": {},
   "outputs": [],
   "source": [
    "#ヘッドレスモードの設定\n",
    "from selenium.webdriver.chrome.options import Options"
   ]
  },
  {
   "cell_type": "code",
   "execution_count": 61,
   "metadata": {},
   "outputs": [],
   "source": [
    "options = Options()"
   ]
  },
  {
   "cell_type": "code",
   "execution_count": 62,
   "metadata": {},
   "outputs": [],
   "source": [
    "options.add_argument('--headless')"
   ]
  },
  {
   "cell_type": "code",
   "execution_count": 65,
   "metadata": {},
   "outputs": [],
   "source": [
    "browser = webdriver.Chrome(options=options)\n",
    "url = 'https://www.tyojyu.or.jp/net/kenkou-tyoju/eiyouso/'\n",
    "browser.get(url)"
   ]
  },
  {
   "cell_type": "code",
   "execution_count": 34,
   "metadata": {},
   "outputs": [],
   "source": [
    "#browser.quit()"
   ]
  },
  {
   "cell_type": "code",
   "execution_count": 35,
   "metadata": {},
   "outputs": [],
   "source": [
    "#elem = browser.find_element_by_class('')\n",
    "#elem.text"
   ]
  },
  {
   "cell_type": "code",
   "execution_count": 66,
   "metadata": {},
   "outputs": [],
   "source": [
    "#テキスト一括取得\n",
    "#   <div class=\"mod-links2\">\n",
    "#     <ul class=\"mod-links2__list\">\n",
    "# elem = browser.find_element_by_xpath('/html/body/div/main/div/div/div[2]/ul')\n",
    "elem = browser.find_element_by_xpath('//*[@id=\"content\"]/div/div/div[2]/ul')"
   ]
  },
  {
   "cell_type": "code",
   "execution_count": 11,
   "metadata": {
    "scrolled": true
   },
   "outputs": [
    {
     "ename": "NameError",
     "evalue": "name 'elem' is not defined",
     "output_type": "error",
     "traceback": [
      "\u001b[0;31m---------------------------------------------------------------------------\u001b[0m",
      "\u001b[0;31mNameError\u001b[0m                                 Traceback (most recent call last)",
      "\u001b[0;32m<ipython-input-11-9afaa4c25c81>\u001b[0m in \u001b[0;36m<module>\u001b[0;34m\u001b[0m\n\u001b[0;32m----> 1\u001b[0;31m \u001b[0melem\u001b[0m\u001b[0;34m.\u001b[0m\u001b[0mtext\u001b[0m\u001b[0;34m\u001b[0m\u001b[0;34m\u001b[0m\u001b[0m\n\u001b[0m",
      "\u001b[0;31mNameError\u001b[0m: name 'elem' is not defined"
     ]
    }
   ],
   "source": [
    "elem.text"
   ]
  },
  {
   "cell_type": "code",
   "execution_count": 69,
   "metadata": {},
   "outputs": [],
   "source": [
    "# #forを用いた取得\n",
    "# thとかtrとかtdに対して有効。\n",
    "# 複数のエレメントには　find_elements_by_tag_name('')とか\n",
    "# んで、elems_th[2].text とかで出力\n",
    "# keys = []　　リストにそれ相当の名前をつけるため。forを用いるとリスト型ではなくなるから。\n",
    "# for elem_th in elems_th:　　一個一個取り出すとは、リスト型ではなく、改行して一個ずつってことか。\n",
    "#     key = elem_th.text\n",
    "#     keys.append(key)　　末尾に要素を追加する"
   ]
  },
  {
   "cell_type": "code",
   "execution_count": 74,
   "metadata": {},
   "outputs": [],
   "source": [
    "# リスト\n",
    "# elem [0].text"
   ]
  },
  {
   "cell_type": "code",
   "execution_count": 10,
   "metadata": {},
   "outputs": [
    {
     "ename": "NameError",
     "evalue": "name 'elem' is not defined",
     "output_type": "error",
     "traceback": [
      "\u001b[0;31m---------------------------------------------------------------------------\u001b[0m",
      "\u001b[0;31mNameError\u001b[0m                                 Traceback (most recent call last)",
      "\u001b[0;32m<ipython-input-10-2140855cf62a>\u001b[0m in \u001b[0;36m<module>\u001b[0;34m\u001b[0m\n\u001b[0;32m----> 1\u001b[0;31m \u001b[0mnutrients\u001b[0m \u001b[0;34m=\u001b[0m \u001b[0melem\u001b[0m\u001b[0;34m.\u001b[0m\u001b[0mtext\u001b[0m\u001b[0;34m\u001b[0m\u001b[0;34m\u001b[0m\u001b[0m\n\u001b[0m\u001b[1;32m      2\u001b[0m \u001b[0mnutrients\u001b[0m\u001b[0;34m\u001b[0m\u001b[0;34m\u001b[0m\u001b[0m\n",
      "\u001b[0;31mNameError\u001b[0m: name 'elem' is not defined"
     ]
    }
   ],
   "source": [
    "nutrients = elem.text\n",
    "nutrients"
   ]
  },
  {
   "cell_type": "code",
   "execution_count": 9,
   "metadata": {},
   "outputs": [
    {
     "ename": "AttributeError",
     "evalue": "'list' object has no attribute 'replace'",
     "output_type": "error",
     "traceback": [
      "\u001b[0;31m---------------------------------------------------------------------------\u001b[0m",
      "\u001b[0;31mAttributeError\u001b[0m                            Traceback (most recent call last)",
      "\u001b[0;32m<ipython-input-9-8ecf37144387>\u001b[0m in \u001b[0;36m<module>\u001b[0;34m\u001b[0m\n\u001b[0;32m----> 1\u001b[0;31m \u001b[0mnutrient\u001b[0m \u001b[0;34m=\u001b[0m \u001b[0mnutrients\u001b[0m\u001b[0;34m.\u001b[0m\u001b[0mreplace\u001b[0m\u001b[0;34m(\u001b[0m\u001b[0;34m'の働きと1日の摂取量\\n'\u001b[0m\u001b[0;34m,\u001b[0m \u001b[0;34m','\u001b[0m\u001b[0;34m)\u001b[0m\u001b[0;34m.\u001b[0m\u001b[0mreplace\u001b[0m\u001b[0;34m(\u001b[0m\u001b[0;34m'の働きと１日の摂取量\\n'\u001b[0m\u001b[0;34m,\u001b[0m \u001b[0;34m','\u001b[0m\u001b[0;34m)\u001b[0m\u001b[0;34m.\u001b[0m\u001b[0mreplace\u001b[0m\u001b[0;34m(\u001b[0m\u001b[0;34m'とは\\n'\u001b[0m\u001b[0;34m,\u001b[0m \u001b[0;34m','\u001b[0m\u001b[0;34m)\u001b[0m\u001b[0;34m.\u001b[0m\u001b[0mreplace\u001b[0m\u001b[0;34m(\u001b[0m\u001b[0;34m'の働きと健康効果\\n'\u001b[0m\u001b[0;34m,\u001b[0m \u001b[0;34m','\u001b[0m\u001b[0;34m)\u001b[0m\u001b[0;34m.\u001b[0m\u001b[0mreplace\u001b[0m\u001b[0;34m(\u001b[0m\u001b[0;34m'の定義と正しい利用法'\u001b[0m\u001b[0;34m,\u001b[0m \u001b[0;34m''\u001b[0m\u001b[0;34m)\u001b[0m\u001b[0;34m.\u001b[0m\u001b[0mreplace\u001b[0m\u001b[0;34m(\u001b[0m\u001b[0;34m'微量元素'\u001b[0m\u001b[0;34m,\u001b[0m \u001b[0;34m'モリブデン,マンガン,セレン,ヨウ素,クロム'\u001b[0m\u001b[0;34m)\u001b[0m\u001b[0;34m.\u001b[0m\u001b[0mreplace\u001b[0m\u001b[0;34m(\u001b[0m\u001b[0;34m'三大栄養素の'\u001b[0m\u001b[0;34m,\u001b[0m \u001b[0;34m''\u001b[0m\u001b[0;34m)\u001b[0m\u001b[0;34m.\u001b[0m\u001b[0mreplace\u001b[0m\u001b[0;34m(\u001b[0m\u001b[0;34m'ミネラル成分の'\u001b[0m\u001b[0;34m,\u001b[0m \u001b[0;34m''\u001b[0m\u001b[0;34m)\u001b[0m\u001b[0;34m\u001b[0m\u001b[0;34m\u001b[0m\u001b[0m\n\u001b[0m\u001b[1;32m      2\u001b[0m \u001b[0mnutrient\u001b[0m\u001b[0;34m\u001b[0m\u001b[0;34m\u001b[0m\u001b[0m\n",
      "\u001b[0;31mAttributeError\u001b[0m: 'list' object has no attribute 'replace'"
     ]
    }
   ],
   "source": [
    "nutrient = nutrients.replace('の働きと1日の摂取量\\n', ',').replace('の働きと１日の摂取量\\n', ',').replace('とは\\n', ',').replace('の働きと健康効果\\n', ',').replace('の定義と正しい利用法', '').replace('微量元素', 'モリブデン,マンガン,セレン,ヨウ素,クロム').replace('三大栄養素の', '').replace('ミネラル成分の', '')\n",
    "nutrient"
   ]
  },
  {
   "cell_type": "code",
   "execution_count": 8,
   "metadata": {
    "scrolled": true
   },
   "outputs": [
    {
     "ename": "NameError",
     "evalue": "name 'nutrient' is not defined",
     "output_type": "error",
     "traceback": [
      "\u001b[0;31m---------------------------------------------------------------------------\u001b[0m",
      "\u001b[0;31mNameError\u001b[0m                                 Traceback (most recent call last)",
      "\u001b[0;32m<ipython-input-8-9dac885fba27>\u001b[0m in \u001b[0;36m<module>\u001b[0;34m\u001b[0m\n\u001b[1;32m      1\u001b[0m \u001b[0;31m# この後はJSONかDBか。その前に栄養素としてのリストをきれいにしたい。\u001b[0m\u001b[0;34m\u001b[0m\u001b[0;34m\u001b[0m\u001b[0;34m\u001b[0m\u001b[0m\n\u001b[1;32m      2\u001b[0m \u001b[0mnutrients\u001b[0m \u001b[0;34m=\u001b[0m \u001b[0;34m[\u001b[0m\u001b[0;34m]\u001b[0m\u001b[0;34m\u001b[0m\u001b[0;34m\u001b[0m\u001b[0m\n\u001b[0;32m----> 3\u001b[0;31m \u001b[0mnutrients\u001b[0m \u001b[0;34m=\u001b[0m \u001b[0mnutrient\u001b[0m\u001b[0;34m\u001b[0m\u001b[0;34m\u001b[0m\u001b[0m\n\u001b[0m\u001b[1;32m      4\u001b[0m \u001b[0mnutrients\u001b[0m\u001b[0;34m\u001b[0m\u001b[0;34m\u001b[0m\u001b[0m\n",
      "\u001b[0;31mNameError\u001b[0m: name 'nutrient' is not defined"
     ]
    }
   ],
   "source": [
    "# この後はJSONかDBか。その前に栄養素としてのリストをきれいにしたい。\n",
    "nutrients = []\n",
    "nutrients = nutrient\n",
    "nutrients"
   ]
  },
  {
   "cell_type": "code",
   "execution_count": 29,
   "metadata": {
    "scrolled": true
   },
   "outputs": [
    {
     "data": {
      "text/plain": [
       "'たんぱく質\",\"脂質\",\"コレステロール\",\"炭水化物\",\"食物繊維\",\"ビタミンA\",\"ビタミンD\",\"ビタミンE\",\"ビタミンK\",\"ビタミンB1\",\"ビタミンB2\",\"ナイアシン\",\"ビタミンB6/B12\",\"葉酸\",\"パントテン酸\",\"ビオチン\",\"ビタミンC\",\"ナトリウム\",\"カリウム\",\"カルシウム\",\"マグネシウム\",\"リン\",\"鉄分\",\"亜鉛\",\"銅\",\"モリブデン\",\"マンガン\",\"セレン\",\"ヨウ素\",\"クロム\",\"ファイトケミカル\",\"酵素\",\"サプリメント'"
      ]
     },
     "execution_count": 29,
     "metadata": {},
     "output_type": "execute_result"
    }
   ],
   "source": [
    "#栄養素名リスト\n",
    "# !pip install selenium\n",
    "# !pip install beautifulsoup4\n",
    "# !brew install chromedriver\n",
    "# !brew reinstall chromedriver\n",
    "\n",
    "from selenium import webdriver\n",
    "import time\n",
    "import pandas as p \n",
    "from selenium.webdriver.chrome.options import Options\n",
    "\n",
    "options = Options()\n",
    "options.add_argument('--headless')\n",
    "browser = webdriver.Chrome(options=options)\n",
    "url = 'https://www.tyojyu.or.jp/net/kenkou-tyoju/eiyouso/'\n",
    "browser.get(url)\n",
    "time.sleep(3)\n",
    "\n",
    "elem = browser.find_element_by_xpath('//*[@id=\"content\"]/div/div/div[2]/ul')\n",
    "nutrient = elem.text.replace('の働きと1日の摂取量\\n', ',').replace('の働きと１日の摂取量\\n', ',').replace('とは\\n', ',').replace('の働きと健康効果\\n', ',').replace('の定義と正しい利用法', '').replace('微量元素', 'モリブデン,マンガン,セレン,ヨウ素,クロム').replace('三大栄養素の', '').replace('ミネラル成分の', '')\n",
    "browser.quit()\n",
    "\n",
    "\n",
    "\n",
    "# nutrients = '\\n'.join(nutrient.split(','))\n",
    "nutrients = nutrient.replace('\\n', '').replace(',', '\\\",\\\"')\n",
    "# n = nutrients.split(',')\n",
    "nutrients\n",
    "# for i in nutrients:\n",
    "#     n.append(i)\n",
    "# n\n",
    "\n",
    "\n",
    "#分割は、一つの文字列を配列に入れて、配列.split(どこで分割するか)\n",
    "#改行は、一つの文字列を配列に入れて、'\\n'.join(配列)\n",
    "#ターミナルコマンド　py main.py"
   ]
  },
  {
   "cell_type": "code",
   "execution_count": null,
   "metadata": {},
   "outputs": [],
   "source": []
  }
 ],
 "metadata": {
  "kernelspec": {
   "display_name": "Python 3",
   "language": "python",
   "name": "python3"
  },
  "language_info": {
   "codemirror_mode": {
    "name": "ipython",
    "version": 3
   },
   "file_extension": ".py",
   "mimetype": "text/x-python",
   "name": "python",
   "nbconvert_exporter": "python",
   "pygments_lexer": "ipython3",
   "version": "3.8.5"
  }
 },
 "nbformat": 4,
 "nbformat_minor": 4
}
